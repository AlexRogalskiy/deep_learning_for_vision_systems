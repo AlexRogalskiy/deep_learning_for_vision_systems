{
 "cells": [
  {
   "cell_type": "markdown",
   "metadata": {},
   "source": [
    "# Computer Vision Book\n",
    "\n",
    "## AlexNet implementation with Keras\n"
   ]
  },
  {
   "cell_type": "markdown",
   "metadata": {},
   "source": [
    "### AlexNet Architecture\n",
    "\n",
    "![caption](alexnet_architecture.png)\n"
   ]
  },
  {
   "cell_type": "code",
   "execution_count": 20,
   "metadata": {},
   "outputs": [],
   "source": [
    "from keras.models import Sequential\n",
    "from keras.layers import Conv2D, AveragePooling2D, Flatten, Dense,Activation,MaxPool2D, BatchNormalization, Dropout"
   ]
  },
  {
   "cell_type": "code",
   "execution_count": 21,
   "metadata": {
    "scrolled": false
   },
   "outputs": [
    {
     "name": "stdout",
     "output_type": "stream",
     "text": [
      "_________________________________________________________________\n",
      "Layer (type)                 Output Shape              Param #   \n",
      "=================================================================\n",
      "conv2d_48 (Conv2D)           (None, 55, 55, 96)        34944     \n",
      "_________________________________________________________________\n",
      "activation_47 (Activation)   (None, 55, 55, 96)        0         \n",
      "_________________________________________________________________\n",
      "max_pooling2d_29 (MaxPooling (None, 27, 27, 96)        0         \n",
      "_________________________________________________________________\n",
      "batch_normalization_47 (Batc (None, 27, 27, 96)        384       \n",
      "_________________________________________________________________\n",
      "conv2d_49 (Conv2D)           (None, 27, 27, 256)       614656    \n",
      "_________________________________________________________________\n",
      "activation_48 (Activation)   (None, 27, 27, 256)       0         \n",
      "_________________________________________________________________\n",
      "max_pooling2d_30 (MaxPooling (None, 13, 13, 256)       0         \n",
      "_________________________________________________________________\n",
      "batch_normalization_48 (Batc (None, 13, 13, 256)       1024      \n",
      "_________________________________________________________________\n",
      "conv2d_50 (Conv2D)           (None, 13, 13, 384)       885120    \n",
      "_________________________________________________________________\n",
      "activation_49 (Activation)   (None, 13, 13, 384)       0         \n",
      "_________________________________________________________________\n",
      "batch_normalization_49 (Batc (None, 13, 13, 384)       1536      \n",
      "_________________________________________________________________\n",
      "conv2d_51 (Conv2D)           (None, 13, 13, 384)       1327488   \n",
      "_________________________________________________________________\n",
      "activation_50 (Activation)   (None, 13, 13, 384)       0         \n",
      "_________________________________________________________________\n",
      "batch_normalization_50 (Batc (None, 13, 13, 384)       1536      \n",
      "_________________________________________________________________\n",
      "conv2d_52 (Conv2D)           (None, 13, 13, 256)       884992    \n",
      "_________________________________________________________________\n",
      "activation_51 (Activation)   (None, 13, 13, 256)       0         \n",
      "_________________________________________________________________\n",
      "batch_normalization_51 (Batc (None, 13, 13, 256)       1024      \n",
      "_________________________________________________________________\n",
      "max_pooling2d_31 (MaxPooling (None, 6, 6, 256)         0         \n",
      "_________________________________________________________________\n",
      "flatten_10 (Flatten)         (None, 9216)              0         \n",
      "_________________________________________________________________\n",
      "dense_28 (Dense)             (None, 4096)              37752832  \n",
      "_________________________________________________________________\n",
      "dropout_19 (Dropout)         (None, 4096)              0         \n",
      "_________________________________________________________________\n",
      "dense_29 (Dense)             (None, 4096)              16781312  \n",
      "_________________________________________________________________\n",
      "dropout_20 (Dropout)         (None, 4096)              0         \n",
      "_________________________________________________________________\n",
      "dense_30 (Dense)             (None, 1000)              4097000   \n",
      "=================================================================\n",
      "Total params: 62,383,848\n",
      "Trainable params: 62,381,096\n",
      "Non-trainable params: 2,752\n",
      "_________________________________________________________________\n"
     ]
    }
   ],
   "source": [
    "# Instantiate an empty sequential model\n",
    "model = Sequential()\n",
    "# 1st layer (conv + pool + batchnorm)\n",
    "model.add(Conv2D(filters= 96, kernel_size= (11,11), strides=(4,4), padding='valid', \n",
    "input_shape = (227,227,3)))\n",
    "model.add(Activation('relu'))  #<---- activation function can be added on its own layer or within the Conv2D function\n",
    "model.add(MaxPool2D(pool_size=(3,3), strides=(2,2), padding='valid'))\n",
    "model.add(BatchNormalization())\n",
    "    \n",
    "# 2nd layer (conv + pool + batchnorm)\n",
    "model.add(Conv2D(filters=256, kernel_size=(5,5), strides=(1,1), padding='same'))\n",
    "model.add(Activation('relu'))\n",
    "model.add(MaxPool2D(pool_size=(3,3), strides=(2,2), padding='valid'))\n",
    "model.add(BatchNormalization())\n",
    "            \n",
    "# layer 3 (conv + batchnorm)      <--- note that the authors did not add a POOL layer here\n",
    "model.add(Conv2D(filters=384, kernel_size=(3,3), strides=(1,1), padding='same'))\n",
    "model.add(Activation('relu'))\n",
    "model.add(BatchNormalization())\n",
    "        \n",
    "# layer 4 (conv + batchnorm)      <--- similar to layer 4\n",
    "model.add(Conv2D(filters=384, kernel_size=(3,3), strides=(1,1), padding='same'))\n",
    "model.add(Activation('relu'))\n",
    "model.add(BatchNormalization())\n",
    "            \n",
    "# layer 5 (conv + batchnorm)  \n",
    "model.add(Conv2D(filters=256, kernel_size=(3,3), strides=(1,1), padding='same'))\n",
    "model.add(Activation('relu'))\n",
    "model.add(BatchNormalization())\n",
    "model.add(MaxPool2D(pool_size=(3,3), strides=(2,2), padding='valid'))\n",
    "\n",
    "# Flatten the CNN output to feed it with fully connected layers\n",
    "model.add(Flatten())\n",
    "\n",
    "# layer 6 (Dense layer + dropout)  \n",
    "model.add(Dense(units = 4096, activation = 'relu'))\n",
    "model.add(Dropout(0.5))\n",
    "\n",
    "# layer 7 (Dense layers) \n",
    "model.add(Dense(units = 4096, activation = 'relu'))\n",
    "model.add(Dropout(0.5))\n",
    "                           \n",
    "# layer 8 (softmax output layer) \n",
    "model.add(Dense(units = 1000, activation = 'softmax'))\n",
    "\n",
    "# print the model summary\n",
    "model.summary()\n"
   ]
  },
  {
   "cell_type": "markdown",
   "metadata": {},
   "source": [
    "\n"
   ]
  },
  {
   "cell_type": "markdown",
   "metadata": {},
   "source": [
    "### Compile the Model"
   ]
  },
  {
   "cell_type": "code",
   "execution_count": 18,
   "metadata": {},
   "outputs": [],
   "source": [
    "# the loss function is categorical cross entropy since we have multiple classes (10) \n",
    "# learning_rate = 0.0005\n",
    "# decay_rate = learning_rate / epochs\n",
    "\n",
    "# optimizer = \n",
    "# compile the model by defining the loss function, optimizer, and performance metric\n",
    "model.compile(loss='categorical_crossentropy', optimizer='adam', metrics=['accuracy'])"
   ]
  }
 ],
 "metadata": {
  "anaconda-cloud": {},
  "kernelspec": {
   "display_name": "tfdeeplearning",
   "language": "python",
   "name": "tfdeeplearning"
  },
  "language_info": {
   "codemirror_mode": {
    "name": "ipython",
    "version": 3
   },
   "file_extension": ".py",
   "mimetype": "text/x-python",
   "name": "python",
   "nbconvert_exporter": "python",
   "pygments_lexer": "ipython3",
   "version": "3.5.6"
  }
 },
 "nbformat": 4,
 "nbformat_minor": 2
}
