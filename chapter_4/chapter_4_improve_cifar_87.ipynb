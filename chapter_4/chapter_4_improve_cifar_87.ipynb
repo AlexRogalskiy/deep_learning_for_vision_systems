{
 "cells": [
  {
   "cell_type": "code",
   "execution_count": 1,
   "metadata": {},
   "outputs": [
    {
     "name": "stderr",
     "output_type": "stream",
     "text": [
      "Using TensorFlow backend.\n"
     ]
    }
   ],
   "source": [
    "#import dependencies\n",
    "\n",
    "import keras\n",
    "from keras.models import Sequential\n",
    "from keras.utils import np_utils\n",
    "from keras.preprocessing.image import ImageDataGenerator\n",
    "from keras.layers import Dense, Activation, Flatten, Dropout, BatchNormalization\n",
    "from keras.layers import Conv2D, MaxPooling2D\n",
    "from keras.datasets import cifar10\n",
    "from keras import regularizers, optimizers\n",
    "import numpy as np\n",
    "from matplotlib import pyplot"
   ]
  },
  {
   "cell_type": "code",
   "execution_count": 2,
   "metadata": {},
   "outputs": [],
   "source": [
    "# download and split the data\n",
    "(x_train, y_train), (x_test, y_test) = cifar10.load_data()\n",
    "x_train = x_train.astype('float32')\n",
    "x_test = x_test.astype('float32')\n"
   ]
  },
  {
   "cell_type": "code",
   "execution_count": 3,
   "metadata": {},
   "outputs": [],
   "source": [
    "# Normalize the data\n",
    "# z-score\n",
    "mean = np.mean(x_train,axis=(0,1,2,3))\n",
    "std = np.std(x_train,axis=(0,1,2,3))\n",
    "x_train = (x_train-mean)/(std+1e-7)\n",
    "x_test = (x_test-mean)/(std+1e-7)\n"
   ]
  },
  {
   "cell_type": "code",
   "execution_count": 4,
   "metadata": {},
   "outputs": [],
   "source": [
    "# one-hot encoding\n",
    "num_classes = 10\n",
    "y_train = np_utils.to_categorical(y_train,num_classes)\n",
    "y_test = np_utils.to_categorical(y_test,num_classes)\n"
   ]
  },
  {
   "cell_type": "code",
   "execution_count": 5,
   "metadata": {},
   "outputs": [
    {
     "name": "stdout",
     "output_type": "stream",
     "text": [
      "_________________________________________________________________\n",
      "Layer (type)                 Output Shape              Param #   \n",
      "=================================================================\n",
      "conv2d_1 (Conv2D)            (None, 32, 32, 32)        896       \n",
      "_________________________________________________________________\n",
      "activation_1 (Activation)    (None, 32, 32, 32)        0         \n",
      "_________________________________________________________________\n",
      "batch_normalization_1 (Batch (None, 32, 32, 32)        128       \n",
      "_________________________________________________________________\n",
      "conv2d_2 (Conv2D)            (None, 32, 32, 32)        9248      \n",
      "_________________________________________________________________\n",
      "activation_2 (Activation)    (None, 32, 32, 32)        0         \n",
      "_________________________________________________________________\n",
      "batch_normalization_2 (Batch (None, 32, 32, 32)        128       \n",
      "_________________________________________________________________\n",
      "max_pooling2d_1 (MaxPooling2 (None, 16, 16, 32)        0         \n",
      "_________________________________________________________________\n",
      "dropout_1 (Dropout)          (None, 16, 16, 32)        0         \n",
      "_________________________________________________________________\n",
      "conv2d_3 (Conv2D)            (None, 16, 16, 64)        18496     \n",
      "_________________________________________________________________\n",
      "activation_3 (Activation)    (None, 16, 16, 64)        0         \n",
      "_________________________________________________________________\n",
      "batch_normalization_3 (Batch (None, 16, 16, 64)        256       \n",
      "_________________________________________________________________\n",
      "conv2d_4 (Conv2D)            (None, 16, 16, 64)        36928     \n",
      "_________________________________________________________________\n",
      "activation_4 (Activation)    (None, 16, 16, 64)        0         \n",
      "_________________________________________________________________\n",
      "batch_normalization_4 (Batch (None, 16, 16, 64)        256       \n",
      "_________________________________________________________________\n",
      "max_pooling2d_2 (MaxPooling2 (None, 8, 8, 64)          0         \n",
      "_________________________________________________________________\n",
      "dropout_2 (Dropout)          (None, 8, 8, 64)          0         \n",
      "_________________________________________________________________\n",
      "conv2d_5 (Conv2D)            (None, 8, 8, 128)         73856     \n",
      "_________________________________________________________________\n",
      "activation_5 (Activation)    (None, 8, 8, 128)         0         \n",
      "_________________________________________________________________\n",
      "batch_normalization_5 (Batch (None, 8, 8, 128)         512       \n",
      "_________________________________________________________________\n",
      "conv2d_6 (Conv2D)            (None, 8, 8, 128)         147584    \n",
      "_________________________________________________________________\n",
      "activation_6 (Activation)    (None, 8, 8, 128)         0         \n",
      "_________________________________________________________________\n",
      "batch_normalization_6 (Batch (None, 8, 8, 128)         512       \n",
      "_________________________________________________________________\n",
      "max_pooling2d_3 (MaxPooling2 (None, 4, 4, 128)         0         \n",
      "_________________________________________________________________\n",
      "dropout_3 (Dropout)          (None, 4, 4, 128)         0         \n",
      "_________________________________________________________________\n",
      "flatten_1 (Flatten)          (None, 2048)              0         \n",
      "_________________________________________________________________\n",
      "dense_1 (Dense)              (None, 10)                20490     \n",
      "=================================================================\n",
      "Total params: 309,290\n",
      "Trainable params: 308,394\n",
      "Non-trainable params: 896\n",
      "_________________________________________________________________\n"
     ]
    }
   ],
   "source": [
    "# build the model\n",
    "\n",
    "baseNeuronsNum = 32\n",
    "weight_decay = 1e-4 # l2 regularization hypeparameter\n",
    "\n",
    "model = Sequential()\n",
    "model.add(Conv2D(baseNeuronsNum, (3,3), padding='same', kernel_regularizer=regularizers.l2(weight_decay), input_shape=x_train.shape[1:]))\n",
    "model.add(Activation('relu'))\n",
    "model.add(BatchNormalization())\n",
    "model.add(Conv2D(baseNeuronsNum, (3,3), padding='same', kernel_regularizer=regularizers.l2(weight_decay)))\n",
    "model.add(Activation('relu'))\n",
    "model.add(BatchNormalization())\n",
    "model.add(MaxPooling2D(pool_size=(2,2)))\n",
    "model.add(Dropout(0.2))\n",
    "\n",
    "model.add(Conv2D(2*baseNeuronsNum, (3,3), padding='same', kernel_regularizer=regularizers.l2(weight_decay)))\n",
    "model.add(Activation('relu'))\n",
    "model.add(BatchNormalization())\n",
    "model.add(Conv2D(2*baseNeuronsNum, (3,3), padding='same', kernel_regularizer=regularizers.l2(weight_decay)))\n",
    "model.add(Activation('relu'))\n",
    "model.add(BatchNormalization())\n",
    "model.add(MaxPooling2D(pool_size=(2,2)))\n",
    "model.add(Dropout(0.3))\n",
    "\n",
    "model.add(Conv2D(4*baseNeuronsNum, (3,3), padding='same', kernel_regularizer=regularizers.l2(weight_decay)))\n",
    "model.add(Activation('relu'))\n",
    "model.add(BatchNormalization())\n",
    "model.add(Conv2D(4*baseNeuronsNum, (3,3), padding='same', kernel_regularizer=regularizers.l2(weight_decay)))\n",
    "model.add(Activation('relu'))\n",
    "model.add(BatchNormalization())\n",
    "model.add(MaxPooling2D(pool_size=(2,2)))\n",
    "model.add(Dropout(0.4))\n",
    "\n",
    "model.add(Flatten())\n",
    "model.add(Dense(num_classes, activation='softmax'))\n",
    "\n",
    "model.summary()\n"
   ]
  },
  {
   "cell_type": "code",
   "execution_count": 6,
   "metadata": {},
   "outputs": [],
   "source": [
    "# data augmentation\n",
    "datagen = ImageDataGenerator(\n",
    "    featurewise_center=False,\n",
    "    samplewise_center=False,\n",
    "    featurewise_std_normalization=False,\n",
    "    samplewise_std_normalization=False,\n",
    "    zca_whitening=False,\n",
    "    rotation_range=15,\n",
    "    width_shift_range=0.1,\n",
    "    height_shift_range=0.1,\n",
    "    horizontal_flip=True,\n",
    "    vertical_flip=False\n",
    "    )\n",
    "datagen.fit(x_train)\n"
   ]
  },
  {
   "cell_type": "code",
   "execution_count": 7,
   "metadata": {
    "scrolled": true
   },
   "outputs": [
    {
     "name": "stdout",
     "output_type": "stream",
     "text": [
      "Epoch 1/50\n",
      "781/781 [==============================] - 32s - loss: 2.1217 - acc: 0.3761 - val_loss: 1.4227 - val_acc: 0.5342\n",
      "Epoch 2/50\n",
      "781/781 [==============================] - 31s - loss: 1.5013 - acc: 0.5129 - val_loss: 1.2300 - val_acc: 0.6016\n",
      "Epoch 3/50\n",
      "781/781 [==============================] - 31s - loss: 1.2911 - acc: 0.5778 - val_loss: 0.9997 - val_acc: 0.6681\n",
      "Epoch 4/50\n",
      "781/781 [==============================] - 31s - loss: 1.1525 - acc: 0.6209 - val_loss: 0.8497 - val_acc: 0.7214\n",
      "Epoch 5/50\n",
      "781/781 [==============================] - 31s - loss: 1.0557 - acc: 0.6492 - val_loss: 0.8020 - val_acc: 0.7384\n",
      "Epoch 6/50\n",
      "781/781 [==============================] - 31s - loss: 0.9839 - acc: 0.6728 - val_loss: 0.7809 - val_acc: 0.7433\n",
      "Epoch 7/50\n",
      "781/781 [==============================] - 31s - loss: 0.9363 - acc: 0.6892 - val_loss: 0.6946 - val_acc: 0.7711\n",
      "Epoch 8/50\n",
      "781/781 [==============================] - 31s - loss: 0.8867 - acc: 0.7067 - val_loss: 0.7037 - val_acc: 0.7675\n",
      "Epoch 9/50\n",
      "781/781 [==============================] - 31s - loss: 0.8511 - acc: 0.7184 - val_loss: 0.6560 - val_acc: 0.7891\n",
      "Epoch 10/50\n",
      "781/781 [==============================] - 31s - loss: 0.8192 - acc: 0.7313 - val_loss: 0.6598 - val_acc: 0.7867\n",
      "Epoch 11/50\n",
      "781/781 [==============================] - 31s - loss: 0.8010 - acc: 0.7393 - val_loss: 0.6200 - val_acc: 0.8045\n",
      "Epoch 12/50\n",
      "781/781 [==============================] - 31s - loss: 0.7790 - acc: 0.7447 - val_loss: 0.6310 - val_acc: 0.8026\n",
      "Epoch 13/50\n",
      "781/781 [==============================] - 31s - loss: 0.7673 - acc: 0.7501 - val_loss: 0.5950 - val_acc: 0.8118\n",
      "Epoch 14/50\n",
      "781/781 [==============================] - 31s - loss: 0.7448 - acc: 0.7582 - val_loss: 0.5840 - val_acc: 0.8174\n",
      "Epoch 15/50\n",
      "781/781 [==============================] - 31s - loss: 0.7270 - acc: 0.7644 - val_loss: 0.5795 - val_acc: 0.8190\n",
      "Epoch 16/50\n",
      "781/781 [==============================] - 31s - loss: 0.7176 - acc: 0.7673 - val_loss: 0.5816 - val_acc: 0.8194\n",
      "Epoch 17/50\n",
      "781/781 [==============================] - 31s - loss: 0.7016 - acc: 0.7758 - val_loss: 0.5374 - val_acc: 0.8297\n",
      "Epoch 18/50\n",
      "781/781 [==============================] - 31s - loss: 0.6923 - acc: 0.7785 - val_loss: 0.5354 - val_acc: 0.8357\n",
      "Epoch 19/50\n",
      "781/781 [==============================] - 31s - loss: 0.6785 - acc: 0.7837 - val_loss: 0.5430 - val_acc: 0.8350\n",
      "Epoch 20/50\n",
      "781/781 [==============================] - 31s - loss: 0.6716 - acc: 0.7853 - val_loss: 0.5388 - val_acc: 0.8381\n",
      "Epoch 21/50\n",
      "781/781 [==============================] - 31s - loss: 0.6666 - acc: 0.7876 - val_loss: 0.5205 - val_acc: 0.8427\n",
      "Epoch 22/50\n",
      "781/781 [==============================] - 31s - loss: 0.6558 - acc: 0.7914 - val_loss: 0.5193 - val_acc: 0.8407\n",
      "Epoch 23/50\n",
      "781/781 [==============================] - 31s - loss: 0.6442 - acc: 0.7952 - val_loss: 0.5093 - val_acc: 0.8434\n",
      "Epoch 24/50\n",
      "781/781 [==============================] - 31s - loss: 0.6368 - acc: 0.7998 - val_loss: 0.5087 - val_acc: 0.8427\n",
      "Epoch 25/50\n",
      "781/781 [==============================] - 31s - loss: 0.6281 - acc: 0.8010 - val_loss: 0.5131 - val_acc: 0.8449\n",
      "Epoch 26/50\n",
      "781/781 [==============================] - 31s - loss: 0.6266 - acc: 0.8018 - val_loss: 0.4972 - val_acc: 0.8504\n",
      "Epoch 27/50\n",
      "781/781 [==============================] - 31s - loss: 0.6082 - acc: 0.8100 - val_loss: 0.4917 - val_acc: 0.8584\n",
      "Epoch 28/50\n",
      "781/781 [==============================] - 31s - loss: 0.6118 - acc: 0.8071 - val_loss: 0.5000 - val_acc: 0.8474\n",
      "Epoch 29/50\n",
      "781/781 [==============================] - 31s - loss: 0.6017 - acc: 0.8121 - val_loss: 0.4865 - val_acc: 0.8560\n",
      "Epoch 30/50\n",
      "781/781 [==============================] - 31s - loss: 0.6001 - acc: 0.8136 - val_loss: 0.4802 - val_acc: 0.8578\n",
      "Epoch 31/50\n",
      "781/781 [==============================] - 31s - loss: 0.5913 - acc: 0.8171 - val_loss: 0.4913 - val_acc: 0.8544\n",
      "Epoch 32/50\n",
      "781/781 [==============================] - 31s - loss: 0.5905 - acc: 0.8163 - val_loss: 0.4762 - val_acc: 0.8606\n",
      "Epoch 33/50\n",
      "781/781 [==============================] - 31s - loss: 0.5929 - acc: 0.8174 - val_loss: 0.4667 - val_acc: 0.8610\n",
      "Epoch 34/50\n",
      "781/781 [==============================] - 31s - loss: 0.5819 - acc: 0.8224 - val_loss: 0.4859 - val_acc: 0.8560\n",
      "Epoch 35/50\n",
      "781/781 [==============================] - 31s - loss: 0.5757 - acc: 0.8225 - val_loss: 0.4608 - val_acc: 0.8672\n",
      "Epoch 36/50\n",
      "781/781 [==============================] - 31s - loss: 0.5695 - acc: 0.8241 - val_loss: 0.4676 - val_acc: 0.8648\n",
      "Epoch 37/50\n",
      "781/781 [==============================] - 31s - loss: 0.5693 - acc: 0.8253 - val_loss: 0.4589 - val_acc: 0.8657\n",
      "Epoch 38/50\n",
      "781/781 [==============================] - 31s - loss: 0.5671 - acc: 0.8256 - val_loss: 0.4722 - val_acc: 0.8621\n",
      "Epoch 39/50\n",
      "781/781 [==============================] - 31s - loss: 0.5602 - acc: 0.8296 - val_loss: 0.4588 - val_acc: 0.8668\n",
      "Epoch 40/50\n",
      "781/781 [==============================] - 31s - loss: 0.5593 - acc: 0.8290 - val_loss: 0.4589 - val_acc: 0.8678\n",
      "Epoch 41/50\n",
      "781/781 [==============================] - 31s - loss: 0.5580 - acc: 0.8304 - val_loss: 0.4545 - val_acc: 0.8666\n",
      "Epoch 42/50\n",
      "781/781 [==============================] - 31s - loss: 0.5541 - acc: 0.8312 - val_loss: 0.4584 - val_acc: 0.8693\n",
      "Epoch 43/50\n",
      "781/781 [==============================] - 31s - loss: 0.5477 - acc: 0.8319 - val_loss: 0.4580 - val_acc: 0.8704\n",
      "Epoch 44/50\n",
      "781/781 [==============================] - 31s - loss: 0.5419 - acc: 0.8349 - val_loss: 0.4542 - val_acc: 0.8712\n",
      "Epoch 45/50\n",
      "781/781 [==============================] - 31s - loss: 0.5419 - acc: 0.8355 - val_loss: 0.4604 - val_acc: 0.8706\n",
      "Epoch 46/50\n",
      "781/781 [==============================] - 31s - loss: 0.5403 - acc: 0.8372 - val_loss: 0.4429 - val_acc: 0.8727\n",
      "Epoch 47/50\n",
      "781/781 [==============================] - 31s - loss: 0.5405 - acc: 0.8361 - val_loss: 0.4542 - val_acc: 0.8725\n",
      "Epoch 48/50\n",
      "781/781 [==============================] - 31s - loss: 0.5339 - acc: 0.8396 - val_loss: 0.4593 - val_acc: 0.8705\n",
      "Epoch 49/50\n",
      "781/781 [==============================] - 31s - loss: 0.5314 - acc: 0.8404 - val_loss: 0.4488 - val_acc: 0.8763\n",
      "Epoch 50/50\n",
      "781/781 [==============================] - 31s - loss: 0.5360 - acc: 0.8384 - val_loss: 0.4459 - val_acc: 0.8726\n"
     ]
    }
   ],
   "source": [
    "# training\n",
    "batch_size = 64\n",
    "epochs=25\n",
    "\n",
    "from keras.callbacks import ModelCheckpoint   \n",
    "\n",
    "checkpointer = ModelCheckpoint(filepath='model.weights.best.hdf5', verbose=1, save_best_only=True)\n",
    "\n",
    "\n",
    "\n",
    "# you can try any of these optimizers by uncommenting the line\n",
    "# optimizer = keras.optimizers.rmsprop(lr=0.001,decay=1e-6)\n",
    "# optimizer = keras.optimizers.adam(lr=0.0005,decay=1e-6)\n",
    "\n",
    "opt_rms = keras.optimizers.rmsprop(lr=0.0003,decay=1e-6)\n",
    "model.compile(loss='categorical_crossentropy', optimizer=optimizer, metrics=['accuracy'])\n",
    "history = model.fit_generator(datagen.flow(x_train, y_train, batch_size=batch_size),steps_per_epoch=x_train.shape[0] // batch_size, epochs=epochs*2,verbose=1,validation_data=(x_test,y_test))\n",
    "model.save_weights('cifar10_improvement.h5')"
   ]
  },
  {
   "cell_type": "code",
   "execution_count": 8,
   "metadata": {},
   "outputs": [
    {
     "name": "stdout",
     "output_type": "stream",
     "text": [
      "10000/10000 [==============================] - 1s     \n",
      "\n",
      "Test result: 87.260 loss: 0.446\n"
     ]
    }
   ],
   "source": [
    "# evaluating the model\n",
    "scores = model.evaluate(x_test, y_test, batch_size=128, verbose=1)\n",
    "print('\\nTest result: %.3f loss: %.3f' % (scores[1]*100,scores[0]))"
   ]
  },
  {
   "cell_type": "code",
   "execution_count": 9,
   "metadata": {},
   "outputs": [
    {
     "data": {
      "image/png": "[encoded data removed]",
      "text/plain": [
       "<matplotlib.figure.Figure at 0x7ff43f9b5d50>"
      ]
     },
     "metadata": {},
     "output_type": "display_data"
    }
   ],
   "source": [
    "# plot learning curves of model accuracy\n",
    "pyplot.plot(history.history['acc'], label='train')\n",
    "pyplot.plot(history.history['val_acc'], label='test')\n",
    "pyplot.legend()\n",
    "pyplot.show()"
   ]
  },
  {
   "cell_type": "code",
   "execution_count": null,
   "metadata": {},
   "outputs": [],
   "source": []
  }
 ],
 "metadata": {
  "kernelspec": {
   "display_name": "Python 2",
   "language": "python",
   "name": "python2"
  },
  "language_info": {
   "codemirror_mode": {
    "name": "ipython",
    "version": 2
   },
   "file_extension": ".py",
   "mimetype": "text/x-python",
   "name": "python",
   "nbconvert_exporter": "python",
   "pygments_lexer": "ipython2",
   "version": "2.7.12"
  }
 },
 "nbformat": 4,
 "nbformat_minor": 2
}
